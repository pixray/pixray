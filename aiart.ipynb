{
 "cells": [
  {
   "cell_type": "code",
   "execution_count": null,
   "metadata": {},
   "outputs": [],
   "source": [
    "%config Completer.use_jedi = False"
   ]
  },
  {
   "cell_type": "code",
   "execution_count": null,
   "metadata": {
    "_cell_guid": "b1076dfc-b9ad-4769-8c92-a6c4dae69d19",
    "_uuid": "8f2839f25d086af736a60e9eeb907d3b93b6e0e5"
   },
   "outputs": [],
   "source": [
    "!nvidia-smi"
   ]
  },
  {
   "cell_type": "code",
   "execution_count": null,
   "metadata": {},
   "outputs": [],
   "source": [
    "\"\"\"%%capture\n",
    "\n",
    "!rm -Rf pixray\n",
    "!git clone --recursive https://github.com/paulasquin/pixray.git\n",
    "!pip install pillow basicsr pydiffvg\n",
    "!pip install --upgrade pillow\n",
    "!pip install -r pixray/requirements.txt\n",
    "\"\"\""
   ]
  },
  {
   "cell_type": "code",
   "execution_count": null,
   "metadata": {},
   "outputs": [],
   "source": [
    "!mkdir -p steps\n",
    "!mkdir -p models\n",
    "\n",
    "import sys\n",
    "# sys.path.append(\"pixray\")\n",
    "# import pixray\n"
   ]
  },
  {
   "cell_type": "code",
   "execution_count": null,
   "metadata": {},
   "outputs": [],
   "source": [
    "prompts=\"deep space planet #artstation\" #@param {type:\"string\"}\n",
    "optimiser=\"Adam\" #@param [\"Adam\", \"DiffGrad\"]\n",
    "quality=\"normal\" #@param [\"draft\", \"normal\", \"better\", \"best\"]\n",
    "init_noise=\"gradient\" #@param [\"pixels\", \"gradient\" , \"snow\"]\n",
    "drawer = \"clipdraw\" #@param [\"vqgan\", \"clipdraw\", \"pixel\", \"line_sketch\"]\n",
    "# clip_models='RN50,ViT-B/16,SLIP_VITB16'\n",
    "batches=2\n",
    "num_cuts=2\n",
    "scale = \"1.5\" #@param {type:\"string\"}\n",
    "display_every=10\n",
    "\n",
    "scale = float(scale)\n",
    "width=f\"{int(1080//scale)}\"\n",
    "height=f\"{int(1920//scale)}\"\n",
    "# height = int(float(width) * 5.0 / 4)\n",
    "run_name = prompts.replace(\" \", \"_\").replace(\"#\", \"\").replace(\"|\", \"\")\n",
    "outdir=f\"aiart/{run_name}\"\n",
    "print(f\"{run_name}: {width}x{height}\")"
   ]
  },
  {
   "cell_type": "code",
   "execution_count": null,
   "metadata": {},
   "outputs": [],
   "source": [
    "import os\n",
    "if not os.path.isdir(outdir):\n",
    "    os.makedirs(outdir)"
   ]
  },
  {
   "cell_type": "code",
   "execution_count": null,
   "metadata": {},
   "outputs": [],
   "source": [
    "# !pip install -r requirements.txt\n",
    "!pip install -e v-diffusion-pytorch/\n",
    "!pip install -e .\n"
   ]
  },
  {
   "cell_type": "code",
   "execution_count": null,
   "metadata": {},
   "outputs": [],
   "source": [
    "import diffusion"
   ]
  },
  {
   "cell_type": "code",
   "execution_count": null,
   "metadata": {},
   "outputs": [],
   "source": [
    "from pixray import pixray"
   ]
  },
  {
   "cell_type": "code",
   "execution_count": null,
   "metadata": {},
   "outputs": [],
   "source": [
    "pixray.reset_settings()\n",
    "pixray.add_settings(prompts=prompts, init_noise=init_noise, outdir=outdir, save_every=1, make_video=True, vector_prompts=\"textoff\",\n",
    "                   size=[int(width), int(height)], quality=quality, save_intermediates=True, custom_loss=\"aesthetic\", optimiser=optimiser,\n",
    "                   display_every=display_every, num_cuts=num_cuts, batches=batches)\n",
    "settings = pixray.apply_settings()\n",
    "pixray.do_init(settings)"
   ]
  },
  {
   "cell_type": "code",
   "execution_count": null,
   "metadata": {},
   "outputs": [],
   "source": [
    "pixray.do_run(settings)"
   ]
  },
  {
   "cell_type": "code",
   "execution_count": null,
   "metadata": {},
   "outputs": [],
   "source": [
    "# import pixray\n",
    "pixray.step_to_video('steps')"
   ]
  },
  {
   "cell_type": "code",
   "execution_count": null,
   "metadata": {},
   "outputs": [],
   "source": [
    "!rm aiart.zip\n",
    "!cp steps/*.mp4 $outdir\n",
    "!zip -r aiart.zip aiart"
   ]
  },
  {
   "cell_type": "code",
   "execution_count": null,
   "metadata": {},
   "outputs": [],
   "source": [
    "!git clone https://github.com/iamleot/transferwee.git\n",
    "!python transferwee/transferwee.py upload airart.zip -m \"airart\""
   ]
  },
  {
   "cell_type": "code",
   "execution_count": null,
   "metadata": {},
   "outputs": [],
   "source": [
    "!cp aiart.zip /kaggle/working/aiart.zip\n",
    "from IPython.display import FileLink\n",
    "FileLink(r'aiart.zip')"
   ]
  },
  {
   "cell_type": "code",
   "execution_count": null,
   "metadata": {},
   "outputs": [],
   "source": []
  }
 ],
 "metadata": {
  "kernelspec": {
   "display_name": "Python 3 (ipykernel)",
   "language": "python",
   "name": "python3"
  },
  "language_info": {
   "codemirror_mode": {
    "name": "ipython",
    "version": 3
   },
   "file_extension": ".py",
   "mimetype": "text/x-python",
   "name": "python",
   "nbconvert_exporter": "python",
   "pygments_lexer": "ipython3",
   "version": "3.8.12"
  }
 },
 "nbformat": 4,
 "nbformat_minor": 4
}
